{
 "cells": [
  {
   "cell_type": "markdown",
   "id": "b1752f57",
   "metadata": {},
   "source": [
    "Create a Research Agent."
   ]
  },
  {
   "cell_type": "code",
   "execution_count": null,
   "id": "7a83ea2b",
   "metadata": {},
   "outputs": [
    {
     "name": "stdout",
     "output_type": "stream",
     "text": [
      "Under the Law, manufacturers of covered rechargeable batteries or groups of collaborating manufacturers are responsible for financing the collection and recycling of all rechargeable batteries collected by retailers, as well as providing outreach and education to NYS consumers regarding the proper way to recycle rechargeable batteries. Protect people, property, and the environment by recycling your used rechargeable batteries at any [insert retailer name] New York store or at a participating drop-off location. The NYS Department of Environmental Conservation has within its authority the right to inspect retailers of rechargeable batteries or rechargeable battery containing products for compliance with the Law. An example retail inspection form is provided here (177KB PDF) for your information.\n"
     ]
    }
   ],
   "source": [
    "from langchain_tavily import TavilySearch\n",
    "\n",
    "web_search = TavilySearch(max_results=3)\n",
    "web_search_results = web_search.invoke(\"What are the proper guidelines for disposing of batteries in NYC?\")\n",
    "\n",
    "print(web_search_results[\"results\"][0][\"content\"])"
   ]
  },
  {
   "cell_type": "code",
   "execution_count": 2,
   "id": "e8c8f982",
   "metadata": {},
   "outputs": [],
   "source": [
    "from langgraph.prebuilt import create_react_agent\n",
    "\n",
    "research_agent = create_react_agent(\n",
    "    model=\"openai:gpt-4.1-mini\",\n",
    "    tools=[web_search],\n",
    "    prompt=(\n",
    "        \"You are a research agent.\\n\\n\"\n",
    "        \"INSTRUCTIONS:\\n\"\n",
    "        \"- Assist ONLY with research-related tasks, DO NOT do any math\\n\"\n",
    "        \"- After you're done with your tasks, respond to the supervisor directly\\n\"\n",
    "        \"- Respond ONLY with the results of your work, do NOT include ANY other text.\"\n",
    "    ),\n",
    "    name=\"research_agent\",\n",
    ")"
   ]
  },
  {
   "cell_type": "code",
   "execution_count": 2,
   "id": "c4d90cb6",
   "metadata": {},
   "outputs": [
    {
     "ename": "NameError",
     "evalue": "name 'test' is not defined",
     "output_type": "error",
     "traceback": [
      "\u001b[31m---------------------------------------------------------------------------\u001b[39m",
      "\u001b[31mNameError\u001b[39m                                 Traceback (most recent call last)",
      "\u001b[36mCell\u001b[39m\u001b[36m \u001b[39m\u001b[32mIn[2]\u001b[39m\u001b[32m, line 1\u001b[39m\n\u001b[32m----> \u001b[39m\u001b[32m1\u001b[39m \u001b[43mtest\u001b[49m\n",
      "\u001b[31mNameError\u001b[39m: name 'test' is not defined"
     ]
    }
   ],
   "source": [
    "test"
   ]
  },
  {
   "cell_type": "code",
   "execution_count": 4,
   "id": "11b0fed5",
   "metadata": {},
   "outputs": [],
   "source": [
    "from langchain_core.messages import convert_to_messages\n",
    "\n",
    "\n",
    "def pretty_print_message(message, indent=False):\n",
    "    pretty_message = message.pretty_repr(html=True)\n",
    "    if not indent:\n",
    "        print(pretty_message)\n",
    "        return\n",
    "\n",
    "    indented = \"\\n\".join(\"\\t\" + c for c in pretty_message.split(\"\\n\"))\n",
    "    print(indented)\n",
    "\n",
    "\n",
    "def pretty_print_messages(update, last_message=False):\n",
    "    is_subgraph = False\n",
    "    if isinstance(update, tuple):\n",
    "        ns, update = update\n",
    "        # skip parent graph updates in the printouts\n",
    "        if len(ns) == 0:\n",
    "            return\n",
    "\n",
    "        graph_id = ns[-1].split(\":\")[0]\n",
    "        print(f\"Update from subgraph {graph_id}:\")\n",
    "        print(\"\\n\")\n",
    "        is_subgraph = True\n",
    "\n",
    "    for node_name, node_update in update.items():\n",
    "        update_label = f\"Update from node {node_name}:\"\n",
    "        if is_subgraph:\n",
    "            update_label = \"\\t\" + update_label\n",
    "\n",
    "        print(update_label)\n",
    "        print(\"\\n\")\n",
    "\n",
    "        messages = convert_to_messages(node_update[\"messages\"])\n",
    "        if last_message:\n",
    "            messages = messages[-1:]\n",
    "\n",
    "        for m in messages:\n",
    "            pretty_print_message(m, indent=is_subgraph)\n",
    "        print(\"\\n\")"
   ]
  },
  {
   "cell_type": "code",
   "execution_count": 5,
   "id": "4f666b71",
   "metadata": {},
   "outputs": [
    {
     "name": "stdout",
     "output_type": "stream",
     "text": [
      "Update from node agent:\n",
      "\n",
      "\n",
      "==================================\u001b[1m Ai Message \u001b[0m==================================\n",
      "Name: research_agent\n",
      "Tool Calls:\n",
      "  tavily_search (call_XV77GqExVIaOYgLD3RHQV1Io)\n",
      " Call ID: call_XV77GqExVIaOYgLD3RHQV1Io\n",
      "  Args:\n",
      "    query: battery disposal guidelines in NYC\n",
      "    include_domains: ['nyc.gov']\n",
      "    search_depth: basic\n",
      "\n",
      "\n",
      "Update from node tools:\n",
      "\n",
      "\n",
      "=================================\u001b[1m Tool Message \u001b[0m=================================\n",
      "Name: tavily_search\n",
      "\n",
      "{\"query\": \"battery disposal guidelines in NYC\", \"follow_up_questions\": null, \"answer\": null, \"images\": [], \"results\": [{\"url\": \"https://portal.311.nyc.gov/article/?kanumber=KA-01973\", \"title\": \"Special Waste Disposal · NYC311 - NYC.gov\", \"content\": \"NYC residents can drop off non-commercial special waste at **Special Waste Sites** and **SAFE Disposal Events**. | Item | Special Waste Site | SAFE Disposal Event | If an item isn’t accepted by a Special Waste Site or a SAFE Event, or if you’re unable to drop off an item, you may have other disposal options. You can dispose of some special waste in regular trash or recycling if you follow specific rules. You can dispose of these types of batteries at special waste disposal sites or SAFE disposal events. For electric appliances that aren’t covered by the State’s e-waste law, such as microwaves, fans, or irons, you should remove the battery and dispose of them curbside following normal trash or recycling disposal rules.\", \"score\": 0.78650844, \"raw_content\": null}, {\"url\": \"https://portal.311.nyc.gov/article/?kanumber=KA-02078\", \"title\": \"Battery Recycling · NYC311 - NYC.gov\", \"content\": \"Non-rechargeable and alkaline household batteries may be discarded with regular trash. However, it is illegal to put rechargeable batteries,\", \"score\": 0.77589405, \"raw_content\": null}, {\"url\": \"https://www.nyc.gov/site/dsny/what-we-do/programs/special-waste-drop-off.page\", \"title\": \"Special Waste Drop-Off - DSNY\", \"content\": \"Special Waste Drop-Off - DSNY Image 1: NYCImage 2New York City Department of Sanitation311Image 3Search all NYC.gov websites Image 4: New York City Department of Sanitation *   Special Waste Drop-Off Special Waste Drop-Off Special Waste Drop-Off sites are available for NYC residents to drop off certain harmful household products that dangerous and illegal to dispose of with trash or recycling. Find a Special Waste Drop-Off Site 459 North Henry Street (drop-off site near 530 Kingsland Avenue) Drop-off sites are do-it-yourself style. ### Special Instructions for Batteries Though you can dispose of \\\"household\\\" alkaline batteries in the trash, they are accepted for drop-off. Learn more about safe battery disposal. NYC is a trademark and service mark of the City of New York.\", \"score\": 0.7451949, \"raw_content\": null}], \"response_time\": 1.01, \"request_id\": \"43d9cf58-28dd-4ce4-a306-6eff3e4844da\"}\n",
      "\n",
      "\n",
      "Update from node agent:\n",
      "\n",
      "\n",
      "==================================\u001b[1m Ai Message \u001b[0m==================================\n",
      "Name: research_agent\n",
      "\n",
      "The proper guidelines for disposing of batteries in NYC are:\n",
      "\n",
      "- Non-rechargeable and alkaline household batteries may be discarded with regular trash.\n",
      "- It is illegal to put rechargeable batteries in the regular trash.\n",
      "- Rechargeable batteries should be brought to Special Waste Sites or SAFE Disposal Events designated for battery disposal.\n",
      "- NYC residents can drop off special waste, including certain batteries, at Special Waste Sites and SAFE Disposal Events.\n",
      "- \"Household\" alkaline batteries are accepted for drop-off at special waste disposal sites even though they can be disposed of with regular trash as well.\n",
      "- For electric appliances with batteries that aren't covered by the State's e-waste law (like microwaves, fans, irons), remove the battery and dispose of them curbside following normal rules.\n",
      "\n",
      "Sources:\n",
      "- https://portal.311.nyc.gov/article/?kanumber=KA-01973\n",
      "- https://portal.311.nyc.gov/article/?kanumber=KA-02078\n",
      "- https://www.nyc.gov/site/dsny/what-we-do/programs/special-waste-drop-off.page\n",
      "\n",
      "\n"
     ]
    }
   ],
   "source": [
    "for chunk in research_agent.stream(\n",
    "    {\"messages\": [{\"role\": \"user\", \"content\": \"What are the proper guidelines for disposing of batteries in NYC?\"}]}\n",
    "):\n",
    "    pretty_print_messages(chunk)"
   ]
  },
  {
   "cell_type": "code",
   "execution_count": 6,
   "id": "7ac9b1bd",
   "metadata": {},
   "outputs": [],
   "source": [
    "import os\n",
    "import requests\n",
    "\n",
    "GOOGLE_API_KEY = os.environ[\"GOOGLE_API_KEY\"]\n",
    "\n",
    "def get_places(query: str, latitude: float, longitude: float) -> dict:\n",
    "    \"\"\"Function that leverages the Google Places API to find locations near the latidute and longitude given.\n",
    "\n",
    "    Args:\n",
    "        query: The type of location you are searching for (in example \"Recycling center\")\n",
    "        latitude: The current latitude of the user\n",
    "        longitude: The current longitude of the user\n",
    "\n",
    "    Returns:\n",
    "        Dictionary with location details, results and metadata\n",
    "    \"\"\"\n",
    "    #the google api url\n",
    "    url = 'https://places.googleapis.com/v1/places:searchText'\n",
    "    #headers used for the request\n",
    "    headers = {\n",
    "        'Content-Type': 'application/json',\n",
    "        'X-Goog-Api-Key': GOOGLE_API_KEY,\n",
    "        'X-Goog-FieldMask': '*'\n",
    "    }\n",
    "    #the request body used for the api request\n",
    "    request_body = {\n",
    "        \"textQuery\": query,\n",
    "        \"locationBias\": {\n",
    "            \"circle\": {\n",
    "                \"center\": {\n",
    "                    \"latitude\": latitude,\n",
    "                    \"longitude\": longitude\n",
    "                },\n",
    "                \"radius\": 100.0\n",
    "            }\n",
    "        }\n",
    "    }\n",
    "    #get the response\n",
    "    response = requests.post(url, headers=headers, json=request_body)\n",
    "    #get the json object\n",
    "    output = response.json()\n",
    "    #save the locations in a dictionary\n",
    "    locations = []\n",
    "    #loop through the output\n",
    "    for row in output['places']:\n",
    "        locations.append({\n",
    "            \"name\": row[\"displayName\"][\"text\"],\n",
    "            \"address\": row[\"formattedAddress\"],\n",
    "            #TODO: contact information\n",
    "        })\n",
    "    return {\n",
    "        \"query\": query,\n",
    "        \"latitude_used\": latitude,\n",
    "        \"longitude_used\": longitude,\n",
    "        \"results\": locations\n",
    "    }\n",
    "\n",
    "\n"
   ]
  },
  {
   "cell_type": "code",
   "execution_count": 7,
   "id": "4f771375",
   "metadata": {},
   "outputs": [],
   "source": [
    "locater_agent = create_react_agent(\n",
    "    model=\"openai:gpt-4.1-mini\",\n",
    "    tools=[get_places],\n",
    "    prompt=(\n",
    "        \"You are a locater agent.\\n\\n\"\n",
    "        \"INSTRUCTIONS:\\n\"\n",
    "        \"- Assist ONLY with locating-related tasks, DO NOT do any math\\n\"\n",
    "        \"- After you're done with your tasks, respond to the supervisor directly\\n\"\n",
    "        \"- Respond ONLY with the results of your work, do NOT include ANY other text.\"\n",
    "    ),\n",
    "    name=\"locater_agent\",\n",
    ")"
   ]
  },
  {
   "cell_type": "code",
   "execution_count": 8,
   "id": "89295e9a",
   "metadata": {},
   "outputs": [
    {
     "name": "stdout",
     "output_type": "stream",
     "text": [
      "Update from node agent:\n",
      "\n",
      "\n",
      "==================================\u001b[1m Ai Message \u001b[0m==================================\n",
      "Name: locater_agent\n",
      "Tool Calls:\n",
      "  get_places (call_ukjfS9Q09D5ut5bgp0zjhQKU)\n",
      " Call ID: call_ukjfS9Q09D5ut5bgp0zjhQKU\n",
      "  Args:\n",
      "    query: battery disposal\n",
      "    latitude: 34.0614\n",
      "    longitude: -118.3081\n",
      "\n",
      "\n",
      "Update from node tools:\n",
      "\n",
      "\n",
      "=================================\u001b[1m Tool Message \u001b[0m=================================\n",
      "Name: get_places\n",
      "\n",
      "{\"query\": \"battery disposal\", \"latitude_used\": 34.0614, \"longitude_used\": -118.3081, \"results\": [{\"name\": \"Greenly Electronics Recycling & Data Destruction\", \"address\": \"2542 W 3rd St, Los Angeles, CA 90057, USA\"}, {\"name\": \"Electronics Recycling (Best Buy)\", \"address\": \"1015 N La Brea Ave, West Hollywood, CA 90038, USA\"}, {\"name\": \"Star Recycling\", \"address\": \"2623 W Pico Blvd, Los Angeles, CA 90006, USA\"}, {\"name\": \"San Gabriel Recycling\", \"address\": \"1075 S Hoover St, Los Angeles, CA 90006, USA\"}, {\"name\": \"Temple Recycling Center\", \"address\": \"3521 W Temple St, Los Angeles, CA 90004, USA\"}, {\"name\": \"Greenly Electronics Recycling\", \"address\": \"2321 W 54th St, Los Angeles, CA 90043, USA\"}, {\"name\": \"Electro Batteries\", \"address\": \"4314 N Figueroa St, Los Angeles, CA 90065, USA\"}, {\"name\": \"Glendale Recycling Center\", \"address\": \"1850 Glendale Blvd, Los Angeles, CA 90026, USA\"}, {\"name\": \"Green LA Recycling\", \"address\": \"1738 E 14th St, Los Angeles, CA 90021, USA\"}, {\"name\": \"Dajes Recycling Center\", \"address\": \"181 E Vernon Ave, Los Angeles, CA 90011, USA\"}, {\"name\": \"Venus Recycling\", \"address\": \"2517 W 8th St, Los Angeles, CA 90057, USA\"}, {\"name\": \"Active Recycling Co., Inc.\", \"address\": \"2000 W Slauson Ave, Los Angeles, CA 90047, USA\"}, {\"name\": \"Staples\", \"address\": \"3223 W 6th St, Los Angeles, CA 90020, USA\"}, {\"name\": \"A1 Electronic Recycling\", \"address\": \"5125 Washington Blvd, Los Angeles, CA 90019, USA\"}, {\"name\": \"G & P Recycling Center\", \"address\": \"1329 W Jefferson Blvd, Los Angeles, CA 90007, USA\"}, {\"name\": \"Allfin Recycling Center\", \"address\": \"4709 S Vermont Ave, Los Angeles, CA 90037, USA\"}, {\"name\": \"Stimson’s Recycling\", \"address\": \"6040 Venice Blvd., Los Angeles, CA 90034, USA\"}, {\"name\": \"Miguel Batteries\", \"address\": \"2435 Enterprise St, Los Angeles, CA 90021, USA\"}, {\"name\": \"Union Batteries Inc\", \"address\": \"2501 W Slauson Ave, Los Angeles, CA 90043, USA\"}, {\"name\": \"Eric's Recycling Center\", \"address\": \"2181 E 10th St, Los Angeles, CA 90021, USA\"}]}\n",
      "\n",
      "\n",
      "Update from node agent:\n",
      "\n",
      "\n",
      "==================================\u001b[1m Ai Message \u001b[0m==================================\n",
      "Name: locater_agent\n",
      "\n",
      "Locations where you can dispose of batteries in or near Koreatown, Los Angeles include:\n",
      "\n",
      "1. Greenly Electronics Recycling & Data Destruction, 2542 W 3rd St, Los Angeles, CA 90057\n",
      "2. Electronics Recycling (Best Buy), 1015 N La Brea Ave, West Hollywood, CA 90038\n",
      "3. Star Recycling, 2623 W Pico Blvd, Los Angeles, CA 90006\n",
      "4. San Gabriel Recycling, 1075 S Hoover St, Los Angeles, CA 90006\n",
      "5. Temple Recycling Center, 3521 W Temple St, Los Angeles, CA 90004\n",
      "6. Greenly Electronics Recycling, 2321 W 54th St, Los Angeles, CA 90043\n",
      "7. Electro Batteries, 4314 N Figueroa St, Los Angeles, CA 90065\n",
      "8. Glendale Recycling Center, 1850 Glendale Blvd, Los Angeles, CA 90026\n",
      "9. Green LA Recycling, 1738 E 14th St, Los Angeles, CA 90021\n",
      "10. Dajes Recycling Center, 181 E Vernon Ave, Los Angeles, CA 90011\n",
      "\n",
      "There are additional options if needed.\n",
      "\n",
      "\n"
     ]
    }
   ],
   "source": [
    "for chunk in locater_agent.stream(\n",
    "    {\"messages\": [{\"role\": \"user\", \"content\": \"Where can I dispose of my batteries in Koreatown, Los Angeles.\"}]}\n",
    "):\n",
    "    pretty_print_messages(chunk)"
   ]
  },
  {
   "cell_type": "markdown",
   "id": "2a94e94e",
   "metadata": {},
   "source": [
    "#### Supervisor Agent"
   ]
  },
  {
   "cell_type": "code",
   "execution_count": null,
   "id": "f2dbf282",
   "metadata": {},
   "outputs": [],
   "source": [
    "from langgraph_supervisor import create_supervisor\n",
    "from langchain.chat_models import init_chat_model\n",
    "\n",
    "supervisor = create_supervisor(\n",
    "    model=init_chat_model(\"openai:gpt-4.1-mini\"),\n",
    "    agents=[research_agent, locater_agent],\n",
    "    prompt=(\n",
    "        \"You are a supervisor managing two agents:\\n\"\n",
    "        \"- a research agent. Assign research-related tasks to this agent, such as more information on city guidelines.\\n\"\n",
    "        \"- a locater agent. Assign locating-related tasks to this agent, such as finding places near a specific area.\\n\"\n",
    "        \"Assign work to one agent at a time, do not call agents in parallel.\\n\"\n",
    "        \"You should use the research agent to inform yourself on the appropriate guidelines and then use the locater agent to give five locations for the user.\\n\"\n",
    "        \"You must also inform the user of any fines they could incur if they do not follow the guidelines.\\n\"\n",
    "        \"Do not do any work yourself.\"\n",
    "    ),\n",
    "    add_handoff_back_messages=True,\n",
    "    output_mode=\"full_history\",\n",
    ").compile()"
   ]
  },
  {
   "cell_type": "code",
   "execution_count": 22,
   "id": "44769090",
   "metadata": {},
   "outputs": [
    {
     "data": {
      "image/png": "[encoded data removed]",
      "text/plain": [
       "<IPython.core.display.Image object>"
      ]
     },
     "metadata": {},
     "output_type": "display_data"
    }
   ],
   "source": [
    "from IPython.display import display, Image\n",
    "\n",
    "display(Image(supervisor.get_graph().draw_mermaid_png()))"
   ]
  },
  {
   "cell_type": "code",
   "execution_count": 27,
   "id": "042d1d70",
   "metadata": {},
   "outputs": [
    {
     "name": "stdout",
     "output_type": "stream",
     "text": [
      "Update from node supervisor:\n",
      "\n",
      "\n",
      "=================================\u001b[1m Tool Message \u001b[0m=================================\n",
      "Name: transfer_to_research_agent\n",
      "\n",
      "Successfully transferred to research_agent\n",
      "\n",
      "\n",
      "Update from node research_agent:\n",
      "\n",
      "\n",
      "=================================\u001b[1m Tool Message \u001b[0m=================================\n",
      "Name: transfer_back_to_supervisor\n",
      "\n",
      "Successfully transferred back to supervisor\n",
      "\n",
      "\n",
      "Update from node supervisor:\n",
      "\n",
      "\n",
      "=================================\u001b[1m Tool Message \u001b[0m=================================\n",
      "Name: transfer_to_locater_agent\n",
      "\n",
      "Successfully transferred to locater_agent\n",
      "\n",
      "\n",
      "Update from node locater_agent:\n",
      "\n",
      "\n",
      "=================================\u001b[1m Tool Message \u001b[0m=================================\n",
      "Name: transfer_back_to_supervisor\n",
      "\n",
      "Successfully transferred back to supervisor\n",
      "\n",
      "\n",
      "Update from node supervisor:\n",
      "\n",
      "\n",
      "==================================\u001b[1m Ai Message \u001b[0m==================================\n",
      "Name: supervisor\n",
      "\n",
      "If you find a dead or injured raccoon in Koreatown, Los Angeles, you should avoid approaching or touching it for safety reasons. You need to report it to the city by dialing 311, which connects you with Los Angeles Animal Services who will safely handle the situation.\n",
      "\n",
      "Here are some nearby animal care and control locations that can assist you:\n",
      "1. Animal Urgent Care K-Town, 3035 W Olympic Blvd, Los Angeles, CA 90006\n",
      "2. County of Los Angeles Department of Animal Care and Control - Downey Animal Care Center, 11258 Garfield Ave, Downey, CA 90242\n",
      "3. North Central Animal Shelter, 3201 Lacy St, Los Angeles, CA 90031\n",
      "4. Shatto Veterinary Center, 3130 W 6th St, Los Angeles, CA 90020\n",
      "5. South LA Animal Shelter, 1850 W 60th St, Los Angeles, CA 90047\n",
      "\n",
      "Please note that improper handling or leaving dead wildlife on public streets may violate city regulations, potentially leading to fines, so it is best to report to official services right away.\n",
      "\n",
      "\n"
     ]
    }
   ],
   "source": [
    "for chunk in supervisor.stream(\n",
    "    {\n",
    "        \"messages\": [\n",
    "            {\n",
    "                \"role\": \"user\",\n",
    "                \"content\": \"Hello, somebody ran over a racoon and left it on the street, what should I do? By the way I live in Koreatown, Los Angeles.\",\n",
    "            }\n",
    "        ]\n",
    "    },\n",
    "):\n",
    "    pretty_print_messages(chunk, last_message=True)\n",
    "\n",
    "final_message_history = chunk[\"supervisor\"][\"messages\"]"
   ]
  },
  {
   "cell_type": "code",
   "execution_count": 28,
   "id": "1415df7a",
   "metadata": {},
   "outputs": [
    {
     "name": "stdout",
     "output_type": "stream",
     "text": [
      "If you find a dead or injured raccoon in Koreatown, Los Angeles, you should avoid approaching or touching it for safety reasons. You need to report it to the city by dialing 311, which connects you with Los Angeles Animal Services who will safely handle the situation.\n",
      "\n",
      "Here are some nearby animal care and control locations that can assist you:\n",
      "1. Animal Urgent Care K-Town, 3035 W Olympic Blvd, Los Angeles, CA 90006\n",
      "2. County of Los Angeles Department of Animal Care and Control - Downey Animal Care Center, 11258 Garfield Ave, Downey, CA 90242\n",
      "3. North Central Animal Shelter, 3201 Lacy St, Los Angeles, CA 90031\n",
      "4. Shatto Veterinary Center, 3130 W 6th St, Los Angeles, CA 90020\n",
      "5. South LA Animal Shelter, 1850 W 60th St, Los Angeles, CA 90047\n",
      "\n",
      "Please note that improper handling or leaving dead wildlife on public streets may violate city regulations, potentially leading to fines, so it is best to report to official services right away.\n"
     ]
    }
   ],
   "source": [
    "print(chunk[\"supervisor\"]['messages'][-1].content)"
   ]
  },
  {
   "cell_type": "code",
   "execution_count": null,
   "id": "76f5cf6a",
   "metadata": {},
   "outputs": [],
   "source": []
  }
 ],
 "metadata": {
  "kernelspec": {
   "display_name": "kuraVENV",
   "language": "python",
   "name": "python3"
  },
  "language_info": {
   "codemirror_mode": {
    "name": "ipython",
    "version": 3
   },
   "file_extension": ".py",
   "mimetype": "text/x-python",
   "name": "python",
   "nbconvert_exporter": "python",
   "pygments_lexer": "ipython3",
   "version": "3.13.7"
  }
 },
 "nbformat": 4,
 "nbformat_minor": 5
}

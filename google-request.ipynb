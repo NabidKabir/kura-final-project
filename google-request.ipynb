{
 "cells": [
  {
   "cell_type": "code",
   "execution_count": 5,
   "id": "1e219390",
   "metadata": {},
   "outputs": [],
   "source": [
    "import os\n",
    "import requests\n",
    "from fastmcp import FastMCP\n",
    "\n",
    "GOOGLE_API_KEY = os.environ[\"GOOGLE_API_KEY\"]\n",
    "\n",
    "test_mcp = FastMCP(\"Google Places\")\n",
    "\n",
    "@test_mcp.tool(title=\"Places Locater\")\n",
    "def get_places(query: str, latitude: float, longitude: float) -> dict:\n",
    "    \"\"\"Function that leverages the Google Places API to find locations near the latidute and longitude given.\n",
    "\n",
    "    Args:\n",
    "        query: The type of location you are searching for (in example \"Recycling center\")\n",
    "        latitude: The current latitude of the user\n",
    "        longitude: The current longitude of the user\n",
    "\n",
    "    Returns:\n",
    "        Dictionary with location details, results and metadata\n",
    "    \"\"\"\n",
    "    #the google api url\n",
    "    url = 'https://places.googleapis.com/v1/places:searchText'\n",
    "    #headers used for the request\n",
    "    headers = {\n",
    "        'Content-Type': 'application/json',\n",
    "        'X-Goog-Api-Key': GOOGLE_API_KEY,\n",
    "        'X-Goog-FieldMask': '*'\n",
    "    }\n",
    "    #the request body used for the api request\n",
    "    request_body = {\n",
    "        \"textQuery\": query,\n",
    "        \"locationBias\": {\n",
    "            \"circle\": {\n",
    "                \"center\": {\n",
    "                    \"latitude\": latitude,\n",
    "                    \"longitude\": longitude\n",
    "                },\n",
    "                \"radius\": 100.0\n",
    "            }\n",
    "        }\n",
    "    }\n",
    "    #get the response\n",
    "    response = requests.post(url, headers=headers, json=request_body)\n",
    "    #get the json object\n",
    "    output = response.json()\n",
    "    #save the locations in a dictionary\n",
    "    locations = []\n",
    "    #loop through the output\n",
    "    for row in output['places']:\n",
    "        locations.append({\n",
    "            \"name\": row[\"displayName\"][\"text\"],\n",
    "            \"address\": row[\"formattedAddress\"]\n",
    "        })\n",
    "    return {\n",
    "        \"query\": query,\n",
    "        \"latitude_used\": latitude,\n",
    "        \"longitude_used\": longitude,\n",
    "        \"results\": locations\n",
    "    }"
   ]
  },
  {
   "cell_type": "code",
   "execution_count": 6,
   "id": "aeaeda69",
   "metadata": {},
   "outputs": [],
   "source": [
    "from langchain_openai import ChatOpenAI\n",
    "\n",
    "OPENAI_API_KEY = os.environ[\"OPENAI_API_KEY\"]\n",
    "\n",
    "llm = ChatOpenAI(model=\"gpt-4.1-mini\")"
   ]
  },
  {
   "cell_type": "code",
   "execution_count": 7,
   "id": "cd9d2310",
   "metadata": {},
   "outputs": [],
   "source": [
    "from fastmcp import Client\n",
    "from langgraph.prebuilt import create_react_agent\n",
    "from langchain_mcp_adapters.tools import load_mcp_tools\n",
    "from langchain_core.messages import HumanMessage\n",
    "\n",
    "test_client = Client(test_mcp)\n",
    "\n",
    "async def test_chat():\n",
    "    async with test_client:\n",
    "        tools = await load_mcp_tools(test_client.session)\n",
    "        agent = create_react_agent(model=llm, tools=tools)\n",
    "        while True:\n",
    "            user_input = input(\"User:\\t\")\n",
    "            if user_input.lower() in [\"quit\", \"q\"]:\n",
    "                print(\"Exiting chat.\")\n",
    "                break\n",
    "            message_template = {\"messages\": [HumanMessage(content=user_input)]}\n",
    "            async for message in agent.astream(message_template):\n",
    "                if \"agent\" in message and message['agent'][\"messages\"][0].content:\n",
    "                    print(message['agent'][\"messages\"][0].content)"
   ]
  },
  {
   "cell_type": "code",
   "execution_count": 8,
   "id": "3ebe2081",
   "metadata": {},
   "outputs": [
    {
     "name": "stdout",
     "output_type": "stream",
     "text": [
      "Here are some recycling centers near Koreatown, Los Angeles:\n",
      "\n",
      "1. San Gabriel Recycling - 1075 S Hoover St, Los Angeles, CA 90006\n",
      "2. Temple Recycling Center - 3521 W Temple St, Los Angeles, CA 90004\n",
      "3. Glendale Recycling Center - 1850 Glendale Blvd, Los Angeles, CA 90026\n",
      "4. Star Recycling - 2623 W Pico Blvd, Los Angeles, CA 90006\n",
      "5. W&W Recycling Center - 3870 S Western Ave, Los Angeles, CA 90062\n",
      "\n",
      "If you need more options or specific types of recycling centers, please let me know!\n",
      "Exiting chat.\n"
     ]
    }
   ],
   "source": [
    "await test_chat()"
   ]
  },
  {
   "cell_type": "code",
   "execution_count": null,
   "id": "ea1ed1b2",
   "metadata": {},
   "outputs": [],
   "source": []
  },
  {
   "cell_type": "code",
   "execution_count": null,
   "id": "20eab340",
   "metadata": {},
   "outputs": [],
   "source": [
    "test_input = \"Hello I live in Koreatown, Los Angeles and need help finding a recyclying center can you help me?\""
   ]
  },
  {
   "cell_type": "code",
   "execution_count": null,
   "id": "f5b66e5c",
   "metadata": {},
   "outputs": [],
   "source": [
    "medical waste, e-waste, textile waste."
   ]
  },
  {
   "cell_type": "code",
   "execution_count": null,
   "id": "02edf48a",
   "metadata": {},
   "outputs": [],
   "source": []
  },
  {
   "cell_type": "code",
   "execution_count": null,
   "id": "adca339f",
   "metadata": {},
   "outputs": [],
   "source": []
  },
  {
   "cell_type": "code",
   "execution_count": null,
   "id": "ee969398",
   "metadata": {},
   "outputs": [],
   "source": []
  },
  {
   "cell_type": "code",
   "execution_count": null,
   "id": "9eaaa15a",
   "metadata": {},
   "outputs": [],
   "source": [
    "import os\n",
    "import json\n",
    "import requests"
   ]
  },
  {
   "cell_type": "code",
   "execution_count": null,
   "id": "9b44bff2",
   "metadata": {},
   "outputs": [],
   "source": [
    "#google api url\n",
    "url = 'https://places.googleapis.com/v1/places:searchText'"
   ]
  },
  {
   "cell_type": "code",
   "execution_count": null,
   "id": "109a49a0",
   "metadata": {},
   "outputs": [],
   "source": [
    "headers = {\n",
    "        'Content-Type': 'application/json',\n",
    "        'X-Goog-Api-Key': os.environ[\"GOOGLE_API_KEY\"],  # Replace 'API_KEY' with your actual Google Places API key\n",
    "        'X-Goog-FieldMask': '*'\n",
    "    }"
   ]
  },
  {
   "cell_type": "code",
   "execution_count": null,
   "id": "8edad900",
   "metadata": {},
   "outputs": [],
   "source": [
    "request_body = {\n",
    "    \"textQuery\": \"Recyclying centers\",\n",
    "    \"locationBias\": {\n",
    "        \"circle\": {\n",
    "            \"center\": {\n",
    "                \"latitude\": 34.0549,\n",
    "                \"longitude\": -118.2426\n",
    "            },\n",
    "            \"radius\": 100.0\n",
    "        }\n",
    "    }\n",
    "}"
   ]
  },
  {
   "cell_type": "code",
   "execution_count": null,
   "id": "f9fd421f",
   "metadata": {},
   "outputs": [],
   "source": [
    "response = requests.post(url, headers=headers, json=request_body)"
   ]
  },
  {
   "cell_type": "code",
   "execution_count": null,
   "id": "fca830f5",
   "metadata": {},
   "outputs": [],
   "source": [
    "output = response.json()"
   ]
  },
  {
   "cell_type": "code",
   "execution_count": null,
   "id": "e70a4ed7",
   "metadata": {},
   "outputs": [],
   "source": [
    "for row in output['places']:\n",
    "    print(row['displayName']['text'])\n",
    "    print(row['formattedAddress'])"
   ]
  },
  {
   "cell_type": "code",
   "execution_count": null,
   "id": "cc394835",
   "metadata": {},
   "outputs": [],
   "source": []
  },
  {
   "cell_type": "code",
   "execution_count": null,
   "id": "b3a302f2",
   "metadata": {},
   "outputs": [],
   "source": [
    "output"
   ]
  },
  {
   "cell_type": "code",
   "execution_count": null,
   "id": "048b505d",
   "metadata": {},
   "outputs": [],
   "source": [
    "len(output['places'])"
   ]
  },
  {
   "cell_type": "code",
   "execution_count": null,
   "id": "b05d9c5d",
   "metadata": {},
   "outputs": [],
   "source": [
    "output['places'][0].keys()"
   ]
  },
  {
   "cell_type": "code",
   "execution_count": null,
   "id": "97de0011",
   "metadata": {},
   "outputs": [],
   "source": [
    "output['places'][0]['displayName']['text']"
   ]
  },
  {
   "cell_type": "code",
   "execution_count": null,
   "id": "74db7fa4",
   "metadata": {},
   "outputs": [],
   "source": [
    "output['places'][0]['location']"
   ]
  },
  {
   "cell_type": "code",
   "execution_count": null,
   "id": "774b1c46",
   "metadata": {},
   "outputs": [],
   "source": [
    "\n",
    "\n"
   ]
  },
  {
   "cell_type": "code",
   "execution_count": null,
   "id": "4f26aede",
   "metadata": {},
   "outputs": [],
   "source": []
  },
  {
   "cell_type": "code",
   "execution_count": null,
   "metadata": {},
   "outputs": [],
   "source": []
  },
  {
   "cell_type": "code",
   "execution_count": null,
   "metadata": {},
   "outputs": [],
   "source": []
  },
  {
   "cell_type": "code",
   "execution_count": null,
   "id": "439cda66",
   "metadata": {},
   "outputs": [],
   "source": []
  },
  {
   "cell_type": "code",
   "execution_count": null,
   "id": "fca8165b",
   "metadata": {},
   "outputs": [],
   "source": []
  }
 ],
 "metadata": {
  "kernelspec": {
   "display_name": "kuraVENV (3.12.7)",
   "language": "python",
   "name": "python3"
  },
  "language_info": {
   "codemirror_mode": {
    "name": "ipython",
    "version": 3
   },
   "file_extension": ".py",
   "mimetype": "text/x-python",
   "name": "python",
   "nbconvert_exporter": "python",
   "pygments_lexer": "ipython3",
   "version": "3.12.7"
  }
 },
 "nbformat": 4,
 "nbformat_minor": 5
}

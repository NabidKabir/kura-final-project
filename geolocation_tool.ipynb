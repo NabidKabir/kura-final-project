{
 "cells": [
  {
   "cell_type": "code",
   "execution_count": 1,
   "id": "c3395b71",
   "metadata": {},
   "outputs": [],
   "source": [
    "import requests"
   ]
  },
  {
   "cell_type": "code",
   "execution_count": null,
   "id": "3accf098",
   "metadata": {},
   "outputs": [],
   "source": [
    "def geolocate_ip() -> dict:\n",
    "    \n",
    "    url = \"http://ip-api.com/json/\"\n",
    "    \n",
    "    try:\n",
    "        response = requests.get(url, timeout=5)\n",
    "        response.raise_for_status()\n",
    "        \n",
    "        geo_data = response.json()\n",
    "\n",
    "        if geo_data.get(\"status\") != \"success\":\n",
    "            raise ValueError(f\"Geolocation Lookup Failed {geo_data}\")\n",
    "        else:\n",
    "            return{\"latitude\": geo_data[\"lat\"], \"longitude\": geo_data[\"lon\"]}\n",
    "    except Exception as e:\n",
    "        return {\"error\": str(e)}"
   ]
  },
  {
   "cell_type": "code",
   "execution_count": 8,
   "id": "8f4f23db",
   "metadata": {},
   "outputs": [
    {
     "name": "stdout",
     "output_type": "stream",
     "text": [
      "{'latitude': 40.9266, 'longitude': -74.1818}\n"
     ]
    }
   ],
   "source": [
    "print(geolocate_ip())"
   ]
  }
 ],
 "metadata": {
  "kernelspec": {
   "display_name": "kuraVENV",
   "language": "python",
   "name": "python3"
  },
  "language_info": {
   "codemirror_mode": {
    "name": "ipython",
    "version": 3
   },
   "file_extension": ".py",
   "mimetype": "text/x-python",
   "name": "python",
   "nbconvert_exporter": "python",
   "pygments_lexer": "ipython3",
   "version": "3.8.3"
  }
 },
 "nbformat": 4,
 "nbformat_minor": 5
}
